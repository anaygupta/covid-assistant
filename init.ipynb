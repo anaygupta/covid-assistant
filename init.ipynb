{
 "metadata": {
  "language_info": {
   "codemirror_mode": {
    "name": "ipython",
    "version": 3
   },
   "file_extension": ".py",
   "mimetype": "text/x-python",
   "name": "python",
   "nbconvert_exporter": "python",
   "pygments_lexer": "ipython3",
   "version": "3.7.3-final"
  },
  "orig_nbformat": 2,
  "kernelspec": {
   "name": "Python 3.7.3 64-bit ('venv': venv)",
   "display_name": "Python 3.7.3 64-bit ('venv': venv)",
   "metadata": {
    "interpreter": {
     "hash": "210fa13f311e2717c5d0913c334717478d26664093155383dbe767d00db3f2a1"
    }
   }
  }
 },
 "nbformat": 4,
 "nbformat_minor": 2,
 "cells": [
  {
   "cell_type": "code",
   "execution_count": 172,
   "metadata": {},
   "outputs": [],
   "source": [
    "from selenium import webdriver\n",
    "from selenium.webdriver.chrome.options import Options\n",
    "from selenium.webdriver.common.action_chains import ActionChains\n",
    "# from selenium.webdriver.support.ui import Select\n",
    "\n",
    "from selenium.webdriver.common.by import By\n",
    "from selenium.webdriver.support.ui import WebDriverWait\n",
    "from selenium.webdriver.support import expected_conditions\n",
    "\n",
    "import pandas as pd\n",
    "import time\n",
    "from datetime import datetime"
   ]
  },
  {
   "cell_type": "code",
   "execution_count": 173,
   "metadata": {},
   "outputs": [],
   "source": [
    "#  configured selenium for Brave instead of Chrome\n",
    "options = Options()\n",
    "options.binary_location = '/Applications/Brave Browser.app/Contents/MacOS/Brave Browser'\n",
    "driver = webdriver.Chrome(\n",
    "    options=options, executable_path='/Users/~/Downloads/chromedriver')\n",
    "# driver = webdriver.Chrome(executable_path='/Users/anaygupta/Downloads/chromedriver')"
   ]
  },
  {
   "cell_type": "code",
   "execution_count": 174,
   "metadata": {},
   "outputs": [],
   "source": [
    "# button = driver.find_elements_by_xpath(\"//*[@id=auth_methods]/fieldset[1]/div[1]/button\")\n",
    "# button.click()"
   ]
  },
  {
   "cell_type": "code",
   "execution_count": 175,
   "metadata": {},
   "outputs": [],
   "source": [
    "# driver.find_element_by_xpath(\"//*[@id='auth_methods']/fieldset[1]/div[1]\").click()\n",
    "\n",
    "driver.get('https://asuportal.pointnclick.com/login_dualauthentication.aspx')\n",
    "\n",
    "\n",
    "\n"
   ]
  },
  {
   "cell_type": "code",
   "execution_count": 176,
   "metadata": {},
   "outputs": [],
   "source": [
    "\n",
    "driver.find_elements_by_id(\"cmdStudentDualAuthentication\")[0].click()\n"
   ]
  },
  {
   "cell_type": "code",
   "execution_count": 177,
   "metadata": {},
   "outputs": [],
   "source": [
    "\n",
    "driver.find_element_by_id(\"username\").send_keys(\"\")\n",
    "driver.find_element_by_id (\"password\").send_keys(\"\")\n",
    "driver.find_element_by_name(\"submit\").click()\n",
    "\n"
   ]
  },
  {
   "cell_type": "code",
   "execution_count": 178,
   "metadata": {},
   "outputs": [],
   "source": [
    "# WebDriverWait(driver, .01).until(expected_conditions.presence_of_all_elements_located((By.XPATH, ('//*[@id=\"ctl03\"]/b'))))\n",
    "\n",
    "time.sleep(10)\n",
    "\n",
    "driver.find_elements_by_id(\"dtDOBMN\")[0].send_keys('')\n",
    "driver.find_elements_by_id(\"dtDOBDY\")[0].send_keys('')\n",
    "driver.find_elements_by_id(\"dtDOBYR\")[0].send_keys('')\n",
    "\n",
    "driver.find_elements_by_id(\"cmdStandardProceed\")[0].click()\n"
   ]
  },
  {
   "cell_type": "code",
   "execution_count": 179,
   "metadata": {
    "tags": []
   },
   "outputs": [],
   "source": [
    "# button = driver.find_elements_by_xpath('//*[@id=\"'+x+'\"]/div/div/a')\n",
    "\n",
    "# WebDriverWait(driver, .01).until(expected_conditions.presence_of_all_elements_located((By.XPATH, (\"//*[@id='ctl03']/h1\"))))\n",
    "\n",
    "# print(home[0].text)\n",
    "medical_btn = driver.find_elements_by_xpath('//*[@id=\"sidebar\"]/ul/li[16]/a')\n",
    "driver.execute_script(\"arguments[0].click();\", medical_btn[0])\n",
    "\n",
    "\n",
    "\n"
   ]
  },
  {
   "cell_type": "code",
   "execution_count": 180,
   "metadata": {},
   "outputs": [],
   "source": [
    "labs_btn = driver.find_elements_by_xpath('//*[@id=\"ctl03\"]/ul/li[4]/a')\n",
    "driver.execute_script(\"arguments[0].click();\", labs_btn[0])\n",
    "\n"
   ]
  },
  {
   "cell_type": "code",
   "execution_count": 181,
   "metadata": {
    "tags": []
   },
   "outputs": [],
   "source": [
    "# reports = driver.find_elements_by_xpath(\"//*[contains(@id,'ct')]\")\n",
    "latest_report = driver.find_element_by_xpath('//*[@id=\"ctl03\"]/table/tbody/tr[2]/td[3]/a')\n",
    "latest_report.click()\n",
    "# //*[@id=\"ctl03\"]/table/tbody/tr[2]/td[3]/a\n",
    "# //*[@id=\"ctl03\"]/table/tbody/tr[4]/td[3]/a\n",
    "# //*[@id=\"ctl03\"]/table/tbody/tr[6]/td[3]/a\n",
    "\n",
    "\n"
   ]
  },
  {
   "cell_type": "code",
   "execution_count": 182,
   "metadata": {},
   "outputs": [
    {
     "output_type": "execute_result",
     "data": {
      "text/plain": "(&#39;9/26/2020 3:40 PM&#39;, &#39;Negative&#39;)"
     },
     "metadata": {},
     "execution_count": 182
    }
   ],
   "source": [
    "\n",
    "driver.switch_to.window(driver.window_handles[1])\n",
    "\n",
    "date = driver.find_element_by_xpath('/html/body/article/section[1]/header/dl[1]/dd[1]').text\n",
    "result = driver.find_element_by_xpath('/html/body/article/section[1]/table/tbody/tr[2]/td[2]').text\n",
    "\n",
    "driver.close()\n",
    "\n",
    "date, result\n",
    "\n"
   ]
  },
  {
   "cell_type": "code",
   "execution_count": 183,
   "metadata": {},
   "outputs": [],
   "source": [
    "driver.switch_to.window(driver.window_handles[0])\n",
    "\n",
    "driver.close()"
   ]
  },
  {
   "cell_type": "code",
   "execution_count": 184,
   "metadata": {},
   "outputs": [],
   "source": [
    "# print('As of ' + )\n",
    "date_time_obj = datetime.strptime(date, '%m/%d/%Y %I:%M %p')\n",
    "date_time_obj\n",
    "\n",
    "date = date_time_obj.strftime(\"%B %d, %Y\")"
   ]
  },
  {
   "cell_type": "code",
   "execution_count": 193,
   "metadata": {
    "tags": []
   },
   "outputs": [
    {
     "output_type": "execute_result",
     "data": {
      "text/plain": "&#39;As of September 26, 2020, your coronavirus test result is as of september 26, 2020, your coronavirus test result is as of september 26, 2020, your coronavirus test result is negative...&#39;"
     },
     "metadata": {},
     "execution_count": 193
    }
   ],
   "source": [
    "output = ('As of ' + date + ', your coronavirus test result is ' + result.lower() + '.')\n",
    "output"
   ]
  },
  {
   "cell_type": "code",
   "execution_count": 192,
   "metadata": {},
   "outputs": [],
   "source": [
    "import pyttsx3\n",
    "engine = pyttsx3.init()\n",
    "engine.say(result)\n",
    "engine.runAndWait()\n"
   ]
  },
  {
   "cell_type": "code",
   "execution_count": null,
   "metadata": {},
   "outputs": [],
   "source": []
  }
 ]
}